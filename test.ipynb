{
 "cells": [
  {
   "cell_type": "markdown",
   "id": "420a1d9e-36ae-42b7-a82c-cbb66eac2233",
   "metadata": {},
   "source": [
    "# This is a testing"
   ]
  },
  {
   "cell_type": "code",
   "execution_count": 2,
   "id": "3fd0953d-9c0d-492e-95f2-06eac20131b2",
   "metadata": {},
   "outputs": [],
   "source": [
    "import pandas as pd\n",
    "import altair as alt"
   ]
  },
  {
   "cell_type": "code",
   "execution_count": null,
   "id": "51d71877-2ac3-4f3f-ae77-b3beb4cba483",
   "metadata": {},
   "outputs": [],
   "source": []
  }
 ],
 "metadata": {
  "kernelspec": {
   "display_name": "Python 3 (ipykernel)",
   "language": "python",
   "name": "python3"
  },
  "language_info": {
   "codemirror_mode": {
    "name": "ipython",
    "version": 3
   },
   "file_extension": ".py",
   "mimetype": "text/x-python",
   "name": "python",
   "nbconvert_exporter": "python",
   "pygments_lexer": "ipython3",
   "version": "3.12.2"
  }
 },
 "nbformat": 4,
 "nbformat_minor": 5
}
