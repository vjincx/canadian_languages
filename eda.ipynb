{
 "cells": [
  {
   "cell_type": "markdown",
   "id": "d14f4994",
   "metadata": {},
   "source": [
    "# Canadian Languages\n",
    "\n",
    "This project aims to understand what languages Canadian residents speak, and where they speak them."
   ]
  },
  {
   "cell_type": "code",
   "execution_count": 2,
   "id": "b49d36a7",
   "metadata": {},
   "outputs": [],
   "source": [
    "import pandas as pd\n",
    "import altair as alt"
   ]
  },
  {
   "cell_type": "code",
   "execution_count": 4,
   "id": "94bd009d",
   "metadata": {},
   "outputs": [],
   "source": [
    "can_lang = pd.read_csv('https://raw.githubusercontent.com/ttimbers/canlang/master/inst/extdata/can_lang.csv')\n",
    "#can_lang.head()"
   ]
  },
  {
   "cell_type": "code",
   "execution_count": 13,
   "id": "ee1de753",
   "metadata": {
    "scrolled": true
   },
   "outputs": [],
   "source": [
    "alt.Chart(can_lang).mark_point().encode(\n",
    "    x = alt.X('most_at_work', scale = alt.Scale(type = \"symlog\")),\n",
    "    y = alt.Y('most_at_home', scale = alt.Scale(type = \"symlog\")),\n",
    "    color = 'category'\n",
    ")"
   ]
  },
  {
   "cell_type": "code",
   "execution_count": 17,
   "id": "71b0c125",
   "metadata": {},
   "outputs": [
    {
     "data": {
      "text/plain": [
       "category\n",
       "Aboriginal languages                        67\n",
       "Non-Official & Non-Aboriginal languages    145\n",
       "Official languages                           2\n",
       "dtype: int64"
      ]
     },
     "execution_count": 17,
     "metadata": {},
     "output_type": "execute_result"
    }
   ],
   "source": [
    "can_lang.groupby('category').groups\n",
    ""
   ]
  },
  {
   "cell_type": "code",
   "execution_count": null,
   "id": "b51b3265",
   "metadata": {},
   "outputs": [],
   "source": []
  }
 ],
 "metadata": {
  "kernelspec": {
   "display_name": "Python 3 (ipykernel)",
   "language": "python",
   "name": "python3"
  },
  "language_info": {
   "codemirror_mode": {
    "name": "ipython",
    "version": 3
   },
   "file_extension": ".py",
   "mimetype": "text/x-python",
   "name": "python",
   "nbconvert_exporter": "python",
   "pygments_lexer": "ipython3",
   "version": "3.12.2"
  }
 },
 "nbformat": 4,
 "nbformat_minor": 5
}
