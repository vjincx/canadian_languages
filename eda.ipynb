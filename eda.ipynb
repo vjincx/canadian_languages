{
 "cells": [
  {
   "cell_type": "markdown",
   "id": "42c21d80-16b4-41d2-b780-a9d8cfb1d907",
   "metadata": {},
   "source": [
    "# Canadian Languages\n",
    "\n",
    "This project aims to understand what languages Canadian residents speak, and where they speak them."
   ]
  },
  {
   "cell_type": "code",
   "execution_count": 2,
   "id": "acc66b4f-bc6f-4907-a505-5be1eac50fe5",
   "metadata": {},
   "outputs": [],
   "source": [
    "import pandas as pd\n",
    "import altair as alt"
   ]
  },
  {
   "cell_type": "code",
   "execution_count": 4,
   "id": "dec35904-dbc1-4a22-aeb0-84b89ed239e6",
   "metadata": {},
   "outputs": [
    {
     "data": {
      "text/html": [
       "<div>\n",
       "<style scoped>\n",
       "    .dataframe tbody tr th:only-of-type {\n",
       "        vertical-align: middle;\n",
       "    }\n",
       "\n",
       "    .dataframe tbody tr th {\n",
       "        vertical-align: top;\n",
       "    }\n",
       "\n",
       "    .dataframe thead th {\n",
       "        text-align: right;\n",
       "    }\n",
       "</style>\n",
       "<table border=\"1\" class=\"dataframe\">\n",
       "  <thead>\n",
       "    <tr style=\"text-align: right;\">\n",
       "      <th></th>\n",
       "      <th>category</th>\n",
       "      <th>language</th>\n",
       "      <th>mother_tongue</th>\n",
       "      <th>most_at_home</th>\n",
       "      <th>most_at_work</th>\n",
       "      <th>lang_known</th>\n",
       "    </tr>\n",
       "  </thead>\n",
       "  <tbody>\n",
       "    <tr>\n",
       "      <th>0</th>\n",
       "      <td>Aboriginal languages</td>\n",
       "      <td>Aboriginal languages, n.o.s.</td>\n",
       "      <td>590</td>\n",
       "      <td>235</td>\n",
       "      <td>30</td>\n",
       "      <td>665</td>\n",
       "    </tr>\n",
       "    <tr>\n",
       "      <th>1</th>\n",
       "      <td>Non-Official &amp; Non-Aboriginal languages</td>\n",
       "      <td>Afrikaans</td>\n",
       "      <td>10260</td>\n",
       "      <td>4785</td>\n",
       "      <td>85</td>\n",
       "      <td>23415</td>\n",
       "    </tr>\n",
       "    <tr>\n",
       "      <th>2</th>\n",
       "      <td>Non-Official &amp; Non-Aboriginal languages</td>\n",
       "      <td>Afro-Asiatic languages, n.i.e.</td>\n",
       "      <td>1150</td>\n",
       "      <td>445</td>\n",
       "      <td>10</td>\n",
       "      <td>2775</td>\n",
       "    </tr>\n",
       "    <tr>\n",
       "      <th>3</th>\n",
       "      <td>Non-Official &amp; Non-Aboriginal languages</td>\n",
       "      <td>Akan (Twi)</td>\n",
       "      <td>13460</td>\n",
       "      <td>5985</td>\n",
       "      <td>25</td>\n",
       "      <td>22150</td>\n",
       "    </tr>\n",
       "    <tr>\n",
       "      <th>4</th>\n",
       "      <td>Non-Official &amp; Non-Aboriginal languages</td>\n",
       "      <td>Albanian</td>\n",
       "      <td>26895</td>\n",
       "      <td>13135</td>\n",
       "      <td>345</td>\n",
       "      <td>31930</td>\n",
       "    </tr>\n",
       "  </tbody>\n",
       "</table>\n",
       "</div>"
      ],
      "text/plain": [
       "                                  category                        language  \\\n",
       "0                     Aboriginal languages    Aboriginal languages, n.o.s.   \n",
       "1  Non-Official & Non-Aboriginal languages                       Afrikaans   \n",
       "2  Non-Official & Non-Aboriginal languages  Afro-Asiatic languages, n.i.e.   \n",
       "3  Non-Official & Non-Aboriginal languages                      Akan (Twi)   \n",
       "4  Non-Official & Non-Aboriginal languages                        Albanian   \n",
       "\n",
       "   mother_tongue  most_at_home  most_at_work  lang_known  \n",
       "0            590           235            30         665  \n",
       "1          10260          4785            85       23415  \n",
       "2           1150           445            10        2775  \n",
       "3          13460          5985            25       22150  \n",
       "4          26895         13135           345       31930  "
      ]
     },
     "execution_count": 4,
     "metadata": {},
     "output_type": "execute_result"
    }
   ],
   "source": [
    "can_lang = pd.read_csv('https://raw.githubusercontent.com/ttimbers/canlang/master/inst/extdata/can_lang.csv')\n",
    "#can_lang.head()"
   ]
  },
  {
   "cell_type": "code",
   "execution_count": 13,
   "id": "9925e183-b73b-47a6-86d7-bd326e1b049d",
   "metadata": {
    "scrolled": true
   },
   "outputs": [
    {
     "data": {
      "text/html": [
       "\n",
       "<style>\n",
       "  #altair-viz-3de10fd00a5a4935bcfedc7a043174b5.vega-embed {\n",
       "    width: 100%;\n",
       "    display: flex;\n",
       "  }\n",
       "\n",
       "  #altair-viz-3de10fd00a5a4935bcfedc7a043174b5.vega-embed details,\n",
       "  #altair-viz-3de10fd00a5a4935bcfedc7a043174b5.vega-embed details summary {\n",
       "    position: relative;\n",
       "  }\n",
       "</style>\n",
       "<div id=\"altair-viz-3de10fd00a5a4935bcfedc7a043174b5\"></div>\n",
       "<script type=\"text/javascript\">\n",
       "  var VEGA_DEBUG = (typeof VEGA_DEBUG == \"undefined\") ? {} : VEGA_DEBUG;\n",
       "  (function(spec, embedOpt){\n",
       "    let outputDiv = document.currentScript.previousElementSibling;\n",
       "    if (outputDiv.id !== \"altair-viz-3de10fd00a5a4935bcfedc7a043174b5\") {\n",
       "      outputDiv = document.getElementById(\"altair-viz-3de10fd00a5a4935bcfedc7a043174b5\");\n",
       "    }\n",
       "    const paths = {\n",
       "      \"vega\": \"https://cdn.jsdelivr.net/npm/vega@5?noext\",\n",
       "      \"vega-lib\": \"https://cdn.jsdelivr.net/npm/vega-lib?noext\",\n",
       "      \"vega-lite\": \"https://cdn.jsdelivr.net/npm/vega-lite@5.16.3?noext\",\n",
       "      \"vega-embed\": \"https://cdn.jsdelivr.net/npm/vega-embed@6?noext\",\n",
       "    };\n",
       "\n",
       "    function maybeLoadScript(lib, version) {\n",
       "      var key = `${lib.replace(\"-\", \"\")}_version`;\n",
       "      return (VEGA_DEBUG[key] == version) ?\n",
       "        Promise.resolve(paths[lib]) :\n",
       "        new Promise(function(resolve, reject) {\n",
       "          var s = document.createElement('script');\n",
       "          document.getElementsByTagName(\"head\")[0].appendChild(s);\n",
       "          s.async = true;\n",
       "          s.onload = () => {\n",
       "            VEGA_DEBUG[key] = version;\n",
       "            return resolve(paths[lib]);\n",
       "          };\n",
       "          s.onerror = () => reject(`Error loading script: ${paths[lib]}`);\n",
       "          s.src = paths[lib];\n",
       "        });\n",
       "    }\n",
       "\n",
       "    function showError(err) {\n",
       "      outputDiv.innerHTML = `<div class=\"error\" style=\"color:red;\">${err}</div>`;\n",
       "      throw err;\n",
       "    }\n",
       "\n",
       "    function displayChart(vegaEmbed) {\n",
       "      vegaEmbed(outputDiv, spec, embedOpt)\n",
       "        .catch(err => showError(`Javascript Error: ${err.message}<br>This usually means there's a typo in your chart specification. See the javascript console for the full traceback.`));\n",
       "    }\n",
       "\n",
       "    if(typeof define === \"function\" && define.amd) {\n",
       "      requirejs.config({paths});\n",
       "      require([\"vega-embed\"], displayChart, err => showError(`Error loading script: ${err.message}`));\n",
       "    } else {\n",
       "      maybeLoadScript(\"vega\", \"5\")\n",
       "        .then(() => maybeLoadScript(\"vega-lite\", \"5.16.3\"))\n",
       "        .then(() => maybeLoadScript(\"vega-embed\", \"6\"))\n",
       "        .catch(showError)\n",
       "        .then(() => displayChart(vegaEmbed));\n",
       "    }\n",
       "  })({\"config\": {\"view\": {\"continuousWidth\": 300, \"continuousHeight\": 300}}, \"data\": {\"name\": \"data-2271ee185e9e80917ae2def4f3a0d495\"}, \"mark\": {\"type\": \"point\"}, \"encoding\": {\"color\": {\"field\": \"category\", \"type\": \"nominal\"}, \"x\": {\"field\": \"most_at_work\", \"scale\": {\"type\": \"symlog\"}, \"type\": \"quantitative\"}, \"y\": {\"field\": \"most_at_home\", \"scale\": {\"type\": \"symlog\"}, \"type\": \"quantitative\"}}, \"$schema\": \"https://vega.github.io/schema/vega-lite/v5.16.3.json\", \"datasets\": {\"data-2271ee185e9e80917ae2def4f3a0d495\": [{\"category\": \"Aboriginal languages\", \"language\": \"Aboriginal languages, n.o.s.\", \"mother_tongue\": 590, \"most_at_home\": 235, \"most_at_work\": 30, \"lang_known\": 665}, {\"category\": \"Non-Official & Non-Aboriginal languages\", \"language\": \"Afrikaans\", \"mother_tongue\": 10260, \"most_at_home\": 4785, \"most_at_work\": 85, \"lang_known\": 23415}, {\"category\": \"Non-Official & Non-Aboriginal languages\", \"language\": \"Afro-Asiatic languages, n.i.e.\", \"mother_tongue\": 1150, \"most_at_home\": 445, \"most_at_work\": 10, \"lang_known\": 2775}, {\"category\": \"Non-Official & Non-Aboriginal languages\", \"language\": \"Akan (Twi)\", \"mother_tongue\": 13460, \"most_at_home\": 5985, \"most_at_work\": 25, \"lang_known\": 22150}, {\"category\": \"Non-Official & Non-Aboriginal languages\", \"language\": \"Albanian\", \"mother_tongue\": 26895, \"most_at_home\": 13135, \"most_at_work\": 345, \"lang_known\": 31930}, {\"category\": \"Aboriginal languages\", \"language\": \"Algonquian languages, n.i.e.\", \"mother_tongue\": 45, \"most_at_home\": 10, \"most_at_work\": 0, \"lang_known\": 120}, {\"category\": \"Aboriginal languages\", \"language\": \"Algonquin\", \"mother_tongue\": 1260, \"most_at_home\": 370, \"most_at_work\": 40, \"lang_known\": 2480}, {\"category\": \"Non-Official & Non-Aboriginal languages\", \"language\": \"American Sign Language\", \"mother_tongue\": 2685, \"most_at_home\": 3020, \"most_at_work\": 1145, \"lang_known\": 21930}, {\"category\": \"Non-Official & Non-Aboriginal languages\", \"language\": \"Amharic\", \"mother_tongue\": 22465, \"most_at_home\": 12785, \"most_at_work\": 200, \"lang_known\": 33670}, {\"category\": \"Non-Official & Non-Aboriginal languages\", \"language\": \"Arabic\", \"mother_tongue\": 419890, \"most_at_home\": 223535, \"most_at_work\": 5585, \"lang_known\": 629055}, {\"category\": \"Non-Official & Non-Aboriginal languages\", \"language\": \"Armenian\", \"mother_tongue\": 33460, \"most_at_home\": 21510, \"most_at_work\": 450, \"lang_known\": 41295}, {\"category\": \"Non-Official & Non-Aboriginal languages\", \"language\": \"Assyrian Neo-Aramaic\", \"mother_tongue\": 16070, \"most_at_home\": 10510, \"most_at_work\": 205, \"lang_known\": 19740}, {\"category\": \"Aboriginal languages\", \"language\": \"Athabaskan languages, n.i.e.\", \"mother_tongue\": 50, \"most_at_home\": 10, \"most_at_work\": 0, \"lang_known\": 85}, {\"category\": \"Aboriginal languages\", \"language\": \"Atikamekw\", \"mother_tongue\": 6150, \"most_at_home\": 5465, \"most_at_work\": 1100, \"lang_known\": 6645}, {\"category\": \"Non-Official & Non-Aboriginal languages\", \"language\": \"Austro-Asiatic languages, n.i.e\", \"mother_tongue\": 170, \"most_at_home\": 80, \"most_at_work\": 0, \"lang_known\": 190}, {\"category\": \"Non-Official & Non-Aboriginal languages\", \"language\": \"Austronesian languages, n.i.e.\", \"mother_tongue\": 4195, \"most_at_home\": 1160, \"most_at_work\": 35, \"lang_known\": 5585}, {\"category\": \"Non-Official & Non-Aboriginal languages\", \"language\": \"Azerbaijani\", \"mother_tongue\": 3255, \"most_at_home\": 1245, \"most_at_work\": 25, \"lang_known\": 5455}, {\"category\": \"Aboriginal languages\", \"language\": \"Babine (Wetsuwet'en)\", \"mother_tongue\": 110, \"most_at_home\": 20, \"most_at_work\": 10, \"lang_known\": 210}, {\"category\": \"Non-Official & Non-Aboriginal languages\", \"language\": \"Bamanankan\", \"mother_tongue\": 1535, \"most_at_home\": 345, \"most_at_work\": 0, \"lang_known\": 3190}, {\"category\": \"Aboriginal languages\", \"language\": \"Beaver\", \"mother_tongue\": 190, \"most_at_home\": 50, \"most_at_work\": 0, \"lang_known\": 340}, {\"category\": \"Non-Official & Non-Aboriginal languages\", \"language\": \"Belarusan\", \"mother_tongue\": 810, \"most_at_home\": 225, \"most_at_work\": 0, \"lang_known\": 2265}, {\"category\": \"Non-Official & Non-Aboriginal languages\", \"language\": \"Bengali\", \"mother_tongue\": 73125, \"most_at_home\": 47350, \"most_at_work\": 525, \"lang_known\": 91220}, {\"category\": \"Non-Official & Non-Aboriginal languages\", \"language\": \"Berber languages, n.i.e.\", \"mother_tongue\": 8985, \"most_at_home\": 2615, \"most_at_work\": 15, \"lang_known\": 12510}, {\"category\": \"Non-Official & Non-Aboriginal languages\", \"language\": \"Bikol\", \"mother_tongue\": 1785, \"most_at_home\": 290, \"most_at_work\": 0, \"lang_known\": 2075}, {\"category\": \"Non-Official & Non-Aboriginal languages\", \"language\": \"Bilen\", \"mother_tongue\": 805, \"most_at_home\": 615, \"most_at_work\": 15, \"lang_known\": 1085}, {\"category\": \"Aboriginal languages\", \"language\": \"Blackfoot\", \"mother_tongue\": 2815, \"most_at_home\": 1110, \"most_at_work\": 85, \"lang_known\": 5645}, {\"category\": \"Non-Official & Non-Aboriginal languages\", \"language\": \"Bosnian\", \"mother_tongue\": 12215, \"most_at_home\": 6045, \"most_at_work\": 155, \"lang_known\": 18265}, {\"category\": \"Non-Official & Non-Aboriginal languages\", \"language\": \"Bulgarian\", \"mother_tongue\": 20020, \"most_at_home\": 11985, \"most_at_work\": 200, \"lang_known\": 22425}, {\"category\": \"Non-Official & Non-Aboriginal languages\", \"language\": \"Burmese\", \"mother_tongue\": 3585, \"most_at_home\": 2245, \"most_at_work\": 75, \"lang_known\": 4995}, {\"category\": \"Non-Official & Non-Aboriginal languages\", \"language\": \"Cantonese\", \"mother_tongue\": 565270, \"most_at_home\": 400220, \"most_at_work\": 58820, \"lang_known\": 699125}, {\"category\": \"Aboriginal languages\", \"language\": \"Carrier\", \"mother_tongue\": 1025, \"most_at_home\": 250, \"most_at_work\": 15, \"lang_known\": 2100}, {\"category\": \"Non-Official & Non-Aboriginal languages\", \"language\": \"Catalan\", \"mother_tongue\": 870, \"most_at_home\": 350, \"most_at_work\": 30, \"lang_known\": 2035}, {\"category\": \"Aboriginal languages\", \"language\": \"Cayuga\", \"mother_tongue\": 45, \"most_at_home\": 10, \"most_at_work\": 10, \"lang_known\": 125}, {\"category\": \"Non-Official & Non-Aboriginal languages\", \"language\": \"Cebuano\", \"mother_tongue\": 19890, \"most_at_home\": 7205, \"most_at_work\": 70, \"lang_known\": 27040}, {\"category\": \"Non-Official & Non-Aboriginal languages\", \"language\": \"Celtic languages, n.i.e.\", \"mother_tongue\": 525, \"most_at_home\": 80, \"most_at_work\": 10, \"lang_known\": 3595}, {\"category\": \"Non-Official & Non-Aboriginal languages\", \"language\": \"Chaldean Neo-Aramaic\", \"mother_tongue\": 5545, \"most_at_home\": 3445, \"most_at_work\": 35, \"lang_known\": 7115}, {\"category\": \"Aboriginal languages\", \"language\": \"Chilcotin\", \"mother_tongue\": 655, \"most_at_home\": 255, \"most_at_work\": 15, \"lang_known\": 1150}, {\"category\": \"Non-Official & Non-Aboriginal languages\", \"language\": \"Chinese languages, n.i.e.\", \"mother_tongue\": 615, \"most_at_home\": 280, \"most_at_work\": 0, \"lang_known\": 590}, {\"category\": \"Non-Official & Non-Aboriginal languages\", \"language\": \"Chinese, n.o.s.\", \"mother_tongue\": 38580, \"most_at_home\": 23940, \"most_at_work\": 2935, \"lang_known\": 41685}, {\"category\": \"Aboriginal languages\", \"language\": \"Comox\", \"mother_tongue\": 85, \"most_at_home\": 0, \"most_at_work\": 0, \"lang_known\": 185}, {\"category\": \"Aboriginal languages\", \"language\": \"Cree, n.o.s.\", \"mother_tongue\": 64050, \"most_at_home\": 37950, \"most_at_work\": 7800, \"lang_known\": 86115}, {\"category\": \"Non-Official & Non-Aboriginal languages\", \"language\": \"Creole languages, n.i.e.\", \"mother_tongue\": 4985, \"most_at_home\": 2005, \"most_at_work\": 15, \"lang_known\": 16635}, {\"category\": \"Non-Official & Non-Aboriginal languages\", \"language\": \"Creole, n.o.s.\", \"mother_tongue\": 64110, \"most_at_home\": 24570, \"most_at_work\": 310, \"lang_known\": 133045}, {\"category\": \"Non-Official & Non-Aboriginal languages\", \"language\": \"Croatian\", \"mother_tongue\": 48200, \"most_at_home\": 16775, \"most_at_work\": 220, \"lang_known\": 69835}, {\"category\": \"Non-Official & Non-Aboriginal languages\", \"language\": \"Cushitic languages, n.i.e.\", \"mother_tongue\": 365, \"most_at_home\": 180, \"most_at_work\": 0, \"lang_known\": 480}, {\"category\": \"Non-Official & Non-Aboriginal languages\", \"language\": \"Czech\", \"mother_tongue\": 22295, \"most_at_home\": 6235, \"most_at_work\": 70, \"lang_known\": 28725}, {\"category\": \"Aboriginal languages\", \"language\": \"Dakota\", \"mother_tongue\": 1210, \"most_at_home\": 255, \"most_at_work\": 20, \"lang_known\": 1760}, {\"category\": \"Non-Official & Non-Aboriginal languages\", \"language\": \"Danish\", \"mother_tongue\": 12630, \"most_at_home\": 855, \"most_at_work\": 85, \"lang_known\": 15750}, {\"category\": \"Aboriginal languages\", \"language\": \"Dene\", \"mother_tongue\": 10700, \"most_at_home\": 7710, \"most_at_work\": 770, \"lang_known\": 13060}, {\"category\": \"Non-Official & Non-Aboriginal languages\", \"language\": \"Dinka\", \"mother_tongue\": 2120, \"most_at_home\": 1130, \"most_at_work\": 0, \"lang_known\": 2475}, {\"category\": \"Aboriginal languages\", \"language\": \"Dogrib (Tlicho)\", \"mother_tongue\": 1650, \"most_at_home\": 1020, \"most_at_work\": 165, \"lang_known\": 2375}, {\"category\": \"Non-Official & Non-Aboriginal languages\", \"language\": \"Dravidian languages, n.i.e.\", \"mother_tongue\": 490, \"most_at_home\": 190, \"most_at_work\": 0, \"lang_known\": 790}, {\"category\": \"Non-Official & Non-Aboriginal languages\", \"language\": \"Dutch\", \"mother_tongue\": 99015, \"most_at_home\": 9565, \"most_at_work\": 1165, \"lang_known\": 120870}, {\"category\": \"Non-Official & Non-Aboriginal languages\", \"language\": \"Edo\", \"mother_tongue\": 1670, \"most_at_home\": 410, \"most_at_work\": 0, \"lang_known\": 3220}, {\"category\": \"Official languages\", \"language\": \"English\", \"mother_tongue\": 19460850, \"most_at_home\": 22162865, \"most_at_work\": 15265335, \"lang_known\": 29748265}, {\"category\": \"Non-Official & Non-Aboriginal languages\", \"language\": \"Estonian\", \"mother_tongue\": 5445, \"most_at_home\": 975, \"most_at_work\": 55, \"lang_known\": 6070}, {\"category\": \"Non-Official & Non-Aboriginal languages\", \"language\": \"Ewe\", \"mother_tongue\": 1760, \"most_at_home\": 405, \"most_at_work\": 10, \"lang_known\": 3000}, {\"category\": \"Non-Official & Non-Aboriginal languages\", \"language\": \"Fijian\", \"mother_tongue\": 745, \"most_at_home\": 195, \"most_at_work\": 0, \"lang_known\": 1665}, {\"category\": \"Non-Official & Non-Aboriginal languages\", \"language\": \"Finnish\", \"mother_tongue\": 15295, \"most_at_home\": 2790, \"most_at_work\": 105, \"lang_known\": 17590}, {\"category\": \"Official languages\", \"language\": \"French\", \"mother_tongue\": 7166700, \"most_at_home\": 6943800, \"most_at_work\": 3825215, \"lang_known\": 10242945}, {\"category\": \"Non-Official & Non-Aboriginal languages\", \"language\": \"Frisian\", \"mother_tongue\": 2100, \"most_at_home\": 185, \"most_at_work\": 40, \"lang_known\": 2910}, {\"category\": \"Non-Official & Non-Aboriginal languages\", \"language\": \"Fulah (Pular, Pulaar, Fulfulde)\", \"mother_tongue\": 2825, \"most_at_home\": 825, \"most_at_work\": 0, \"lang_known\": 4725}, {\"category\": \"Non-Official & Non-Aboriginal languages\", \"language\": \"Ga\", \"mother_tongue\": 920, \"most_at_home\": 250, \"most_at_work\": 0, \"lang_known\": 2250}, {\"category\": \"Non-Official & Non-Aboriginal languages\", \"language\": \"Ganda\", \"mother_tongue\": 1295, \"most_at_home\": 345, \"most_at_work\": 25, \"lang_known\": 2495}, {\"category\": \"Non-Official & Non-Aboriginal languages\", \"language\": \"Georgian\", \"mother_tongue\": 1710, \"most_at_home\": 1040, \"most_at_work\": 25, \"lang_known\": 2150}, {\"category\": \"Non-Official & Non-Aboriginal languages\", \"language\": \"German\", \"mother_tongue\": 384040, \"most_at_home\": 120335, \"most_at_work\": 10065, \"lang_known\": 502735}, {\"category\": \"Non-Official & Non-Aboriginal languages\", \"language\": \"Germanic languages, n.i.e.\", \"mother_tongue\": 525, \"most_at_home\": 1630, \"most_at_work\": 725, \"lang_known\": 8705}, {\"category\": \"Aboriginal languages\", \"language\": \"Gitxsan (Gitksan)\", \"mother_tongue\": 880, \"most_at_home\": 315, \"most_at_work\": 10, \"lang_known\": 1305}, {\"category\": \"Non-Official & Non-Aboriginal languages\", \"language\": \"Greek\", \"mother_tongue\": 106525, \"most_at_home\": 44550, \"most_at_work\": 1020, \"lang_known\": 150965}, {\"category\": \"Non-Official & Non-Aboriginal languages\", \"language\": \"Gujarati\", \"mother_tongue\": 108780, \"most_at_home\": 64150, \"most_at_work\": 885, \"lang_known\": 149045}, {\"category\": \"Aboriginal languages\", \"language\": \"Gwich'in\", \"mother_tongue\": 255, \"most_at_home\": 50, \"most_at_work\": 10, \"lang_known\": 360}, {\"category\": \"Aboriginal languages\", \"language\": \"Haida\", \"mother_tongue\": 80, \"most_at_home\": 10, \"most_at_work\": 0, \"lang_known\": 465}, {\"category\": \"Aboriginal languages\", \"language\": \"Haisla\", \"mother_tongue\": 90, \"most_at_home\": 20, \"most_at_work\": 0, \"lang_known\": 175}, {\"category\": \"Non-Official & Non-Aboriginal languages\", \"language\": \"Haitian Creole\", \"mother_tongue\": 3030, \"most_at_home\": 1280, \"most_at_work\": 25, \"lang_known\": 6855}, {\"category\": \"Non-Official & Non-Aboriginal languages\", \"language\": \"Hakka\", \"mother_tongue\": 10910, \"most_at_home\": 4085, \"most_at_work\": 70, \"lang_known\": 12445}, {\"category\": \"Aboriginal languages\", \"language\": \"Halkomelem\", \"mother_tongue\": 480, \"most_at_home\": 50, \"most_at_work\": 20, \"lang_known\": 1060}, {\"category\": \"Non-Official & Non-Aboriginal languages\", \"language\": \"Harari\", \"mother_tongue\": 1320, \"most_at_home\": 735, \"most_at_work\": 0, \"lang_known\": 1715}, {\"category\": \"Non-Official & Non-Aboriginal languages\", \"language\": \"Hebrew\", \"mother_tongue\": 19530, \"most_at_home\": 8560, \"most_at_work\": 825, \"lang_known\": 75020}, {\"category\": \"Aboriginal languages\", \"language\": \"Heiltsuk\", \"mother_tongue\": 100, \"most_at_home\": 5, \"most_at_work\": 10, \"lang_known\": 125}, {\"category\": \"Non-Official & Non-Aboriginal languages\", \"language\": \"Hiligaynon\", \"mother_tongue\": 6880, \"most_at_home\": 2210, \"most_at_work\": 25, \"lang_known\": 7925}, {\"category\": \"Non-Official & Non-Aboriginal languages\", \"language\": \"Hindi\", \"mother_tongue\": 110645, \"most_at_home\": 55510, \"most_at_work\": 1405, \"lang_known\": 433365}, {\"category\": \"Non-Official & Non-Aboriginal languages\", \"language\": \"Hmong-Mien languages\", \"mother_tongue\": 795, \"most_at_home\": 335, \"most_at_work\": 10, \"lang_known\": 870}, {\"category\": \"Non-Official & Non-Aboriginal languages\", \"language\": \"Hungarian\", \"mother_tongue\": 61235, \"most_at_home\": 19480, \"most_at_work\": 440, \"lang_known\": 71285}, {\"category\": \"Non-Official & Non-Aboriginal languages\", \"language\": \"Icelandic\", \"mother_tongue\": 1285, \"most_at_home\": 270, \"most_at_work\": 0, \"lang_known\": 1780}, {\"category\": \"Non-Official & Non-Aboriginal languages\", \"language\": \"Igbo\", \"mother_tongue\": 4235, \"most_at_home\": 1000, \"most_at_work\": 10, \"lang_known\": 8855}, {\"category\": \"Non-Official & Non-Aboriginal languages\", \"language\": \"Ilocano\", \"mother_tongue\": 26345, \"most_at_home\": 9125, \"most_at_work\": 110, \"lang_known\": 34530}, {\"category\": \"Non-Official & Non-Aboriginal languages\", \"language\": \"Indo-Iranian languages, n.i.e.\", \"mother_tongue\": 5185, \"most_at_home\": 2380, \"most_at_work\": 20, \"lang_known\": 8870}, {\"category\": \"Aboriginal languages\", \"language\": \"Inuinnaqtun (Inuvialuktun)\", \"mother_tongue\": 1020, \"most_at_home\": 165, \"most_at_work\": 30, \"lang_known\": 1975}, {\"category\": \"Aboriginal languages\", \"language\": \"Inuit languages, n.i.e.\", \"mother_tongue\": 310, \"most_at_home\": 90, \"most_at_work\": 15, \"lang_known\": 470}, {\"category\": \"Aboriginal languages\", \"language\": \"Inuktitut\", \"mother_tongue\": 35210, \"most_at_home\": 29230, \"most_at_work\": 8795, \"lang_known\": 40620}, {\"category\": \"Aboriginal languages\", \"language\": \"Iroquoian languages, n.i.e.\", \"mother_tongue\": 35, \"most_at_home\": 5, \"most_at_work\": 0, \"lang_known\": 115}, {\"category\": \"Non-Official & Non-Aboriginal languages\", \"language\": \"Italian\", \"mother_tongue\": 375635, \"most_at_home\": 115415, \"most_at_work\": 1705, \"lang_known\": 574725}, {\"category\": \"Non-Official & Non-Aboriginal languages\", \"language\": \"Italic (Romance) languages, n.i.e.\", \"mother_tongue\": 720, \"most_at_home\": 175, \"most_at_work\": 25, \"lang_known\": 2680}, {\"category\": \"Non-Official & Non-Aboriginal languages\", \"language\": \"Japanese\", \"mother_tongue\": 43640, \"most_at_home\": 19785, \"most_at_work\": 3255, \"lang_known\": 83095}, {\"category\": \"Non-Official & Non-Aboriginal languages\", \"language\": \"Kabyle\", \"mother_tongue\": 13150, \"most_at_home\": 5490, \"most_at_work\": 15, \"lang_known\": 17120}, {\"category\": \"Non-Official & Non-Aboriginal languages\", \"language\": \"Kannada\", \"mother_tongue\": 3970, \"most_at_home\": 1630, \"most_at_work\": 10, \"lang_known\": 8245}, {\"category\": \"Non-Official & Non-Aboriginal languages\", \"language\": \"Karenic languages\", \"mother_tongue\": 4705, \"most_at_home\": 3860, \"most_at_work\": 135, \"lang_known\": 4895}, {\"category\": \"Non-Official & Non-Aboriginal languages\", \"language\": \"Kashmiri\", \"mother_tongue\": 565, \"most_at_home\": 135, \"most_at_work\": 0, \"lang_known\": 905}, {\"category\": \"Aboriginal languages\", \"language\": \"Kaska (Nahani)\", \"mother_tongue\": 180, \"most_at_home\": 20, \"most_at_work\": 10, \"lang_known\": 365}, {\"category\": \"Non-Official & Non-Aboriginal languages\", \"language\": \"Khmer (Cambodian)\", \"mother_tongue\": 20130, \"most_at_home\": 10885, \"most_at_work\": 475, \"lang_known\": 27035}, {\"category\": \"Non-Official & Non-Aboriginal languages\", \"language\": \"Kinyarwanda (Rwanda)\", \"mother_tongue\": 5250, \"most_at_home\": 1530, \"most_at_work\": 25, \"lang_known\": 7860}, {\"category\": \"Non-Official & Non-Aboriginal languages\", \"language\": \"Konkani\", \"mother_tongue\": 3330, \"most_at_home\": 720, \"most_at_work\": 10, \"lang_known\": 6790}, {\"category\": \"Non-Official & Non-Aboriginal languages\", \"language\": \"Korean\", \"mother_tongue\": 153425, \"most_at_home\": 109705, \"most_at_work\": 12150, \"lang_known\": 172750}, {\"category\": \"Non-Official & Non-Aboriginal languages\", \"language\": \"Kurdish\", \"mother_tongue\": 11705, \"most_at_home\": 6580, \"most_at_work\": 185, \"lang_known\": 15290}, {\"category\": \"Aboriginal languages\", \"language\": \"Kutenai\", \"mother_tongue\": 110, \"most_at_home\": 10, \"most_at_work\": 0, \"lang_known\": 170}, {\"category\": \"Aboriginal languages\", \"language\": \"Kwakiutl (Kwak'wala)\", \"mother_tongue\": 325, \"most_at_home\": 25, \"most_at_work\": 15, \"lang_known\": 605}, {\"category\": \"Non-Official & Non-Aboriginal languages\", \"language\": \"Lao\", \"mother_tongue\": 12670, \"most_at_home\": 6175, \"most_at_work\": 150, \"lang_known\": 17235}, {\"category\": \"Non-Official & Non-Aboriginal languages\", \"language\": \"Latvian\", \"mother_tongue\": 5450, \"most_at_home\": 1255, \"most_at_work\": 35, \"lang_known\": 6500}, {\"category\": \"Aboriginal languages\", \"language\": \"Lillooet\", \"mother_tongue\": 315, \"most_at_home\": 25, \"most_at_work\": 15, \"lang_known\": 790}, {\"category\": \"Non-Official & Non-Aboriginal languages\", \"language\": \"Lingala\", \"mother_tongue\": 3805, \"most_at_home\": 1045, \"most_at_work\": 10, \"lang_known\": 17010}, {\"category\": \"Non-Official & Non-Aboriginal languages\", \"language\": \"Lithuanian\", \"mother_tongue\": 7075, \"most_at_home\": 2015, \"most_at_work\": 60, \"lang_known\": 8185}, {\"category\": \"Non-Official & Non-Aboriginal languages\", \"language\": \"Macedonian\", \"mother_tongue\": 16770, \"most_at_home\": 6830, \"most_at_work\": 95, \"lang_known\": 23075}, {\"category\": \"Non-Official & Non-Aboriginal languages\", \"language\": \"Malagasy\", \"mother_tongue\": 1430, \"most_at_home\": 430, \"most_at_work\": 0, \"lang_known\": 2340}, {\"category\": \"Non-Official & Non-Aboriginal languages\", \"language\": \"Malay\", \"mother_tongue\": 12275, \"most_at_home\": 3625, \"most_at_work\": 140, \"lang_known\": 22470}, {\"category\": \"Non-Official & Non-Aboriginal languages\", \"language\": \"Malayalam\", \"mother_tongue\": 28565, \"most_at_home\": 15440, \"most_at_work\": 95, \"lang_known\": 37810}, {\"category\": \"Aboriginal languages\", \"language\": \"Malecite\", \"mother_tongue\": 300, \"most_at_home\": 55, \"most_at_work\": 10, \"lang_known\": 760}, {\"category\": \"Non-Official & Non-Aboriginal languages\", \"language\": \"Maltese\", \"mother_tongue\": 5565, \"most_at_home\": 1125, \"most_at_work\": 25, \"lang_known\": 7625}, {\"category\": \"Non-Official & Non-Aboriginal languages\", \"language\": \"Mandarin\", \"mother_tongue\": 592040, \"most_at_home\": 462890, \"most_at_work\": 60090, \"lang_known\": 814450}, {\"category\": \"Non-Official & Non-Aboriginal languages\", \"language\": \"Marathi\", \"mother_tongue\": 8295, \"most_at_home\": 3780, \"most_at_work\": 30, \"lang_known\": 15565}, {\"category\": \"Aboriginal languages\", \"language\": \"Mi'kmaq\", \"mother_tongue\": 6690, \"most_at_home\": 3565, \"most_at_work\": 915, \"lang_known\": 9025}, {\"category\": \"Aboriginal languages\", \"language\": \"Michif\", \"mother_tongue\": 465, \"most_at_home\": 80, \"most_at_work\": 10, \"lang_known\": 1210}, {\"category\": \"Non-Official & Non-Aboriginal languages\", \"language\": \"Min Dong\", \"mother_tongue\": 1230, \"most_at_home\": 345, \"most_at_work\": 30, \"lang_known\": 1045}, {\"category\": \"Non-Official & Non-Aboriginal languages\", \"language\": \"Min Nan (Chaochow, Teochow, Fukien, Taiwanese)\", \"mother_tongue\": 31800, \"most_at_home\": 13965, \"most_at_work\": 565, \"lang_known\": 42840}, {\"category\": \"Aboriginal languages\", \"language\": \"Mohawk\", \"mother_tongue\": 985, \"most_at_home\": 255, \"most_at_work\": 30, \"lang_known\": 2415}, {\"category\": \"Non-Official & Non-Aboriginal languages\", \"language\": \"Mongolian\", \"mother_tongue\": 1575, \"most_at_home\": 905, \"most_at_work\": 10, \"lang_known\": 2095}, {\"category\": \"Aboriginal languages\", \"language\": \"Montagnais (Innu)\", \"mother_tongue\": 10235, \"most_at_home\": 8585, \"most_at_work\": 2055, \"lang_known\": 11445}, {\"category\": \"Aboriginal languages\", \"language\": \"Moose Cree\", \"mother_tongue\": 105, \"most_at_home\": 10, \"most_at_work\": 0, \"lang_known\": 195}, {\"category\": \"Aboriginal languages\", \"language\": \"Naskapi\", \"mother_tongue\": 1205, \"most_at_home\": 1195, \"most_at_work\": 370, \"lang_known\": 1465}, {\"category\": \"Non-Official & Non-Aboriginal languages\", \"language\": \"Nepali\", \"mother_tongue\": 18275, \"most_at_home\": 13375, \"most_at_work\": 195, \"lang_known\": 21385}, {\"category\": \"Non-Official & Non-Aboriginal languages\", \"language\": \"Niger-Congo languages, n.i.e.\", \"mother_tongue\": 19135, \"most_at_home\": 4010, \"most_at_work\": 30, \"lang_known\": 40760}, {\"category\": \"Non-Official & Non-Aboriginal languages\", \"language\": \"Nilo-Saharan languages, n.i.e.\", \"mother_tongue\": 3750, \"most_at_home\": 1520, \"most_at_work\": 0, \"lang_known\": 4550}, {\"category\": \"Aboriginal languages\", \"language\": \"Nisga'a\", \"mother_tongue\": 400, \"most_at_home\": 75, \"most_at_work\": 10, \"lang_known\": 1055}, {\"category\": \"Aboriginal languages\", \"language\": \"North Slavey (Hare)\", \"mother_tongue\": 765, \"most_at_home\": 340, \"most_at_work\": 95, \"lang_known\": 1005}, {\"category\": \"Aboriginal languages\", \"language\": \"Northern East Cree\", \"mother_tongue\": 315, \"most_at_home\": 110, \"most_at_work\": 35, \"lang_known\": 550}, {\"category\": \"Aboriginal languages\", \"language\": \"Northern Tutchone\", \"mother_tongue\": 220, \"most_at_home\": 30, \"most_at_work\": 0, \"lang_known\": 280}, {\"category\": \"Non-Official & Non-Aboriginal languages\", \"language\": \"Norwegian\", \"mother_tongue\": 4615, \"most_at_home\": 350, \"most_at_work\": 70, \"lang_known\": 8120}, {\"category\": \"Aboriginal languages\", \"language\": \"Nuu-chah-nulth (Nootka)\", \"mother_tongue\": 280, \"most_at_home\": 30, \"most_at_work\": 10, \"lang_known\": 560}, {\"category\": \"Aboriginal languages\", \"language\": \"Oji-Cree\", \"mother_tongue\": 12855, \"most_at_home\": 7905, \"most_at_work\": 1080, \"lang_known\": 15605}, {\"category\": \"Aboriginal languages\", \"language\": \"Ojibway\", \"mother_tongue\": 17885, \"most_at_home\": 6175, \"most_at_work\": 765, \"lang_known\": 28580}, {\"category\": \"Aboriginal languages\", \"language\": \"Okanagan\", \"mother_tongue\": 275, \"most_at_home\": 80, \"most_at_work\": 20, \"lang_known\": 820}, {\"category\": \"Aboriginal languages\", \"language\": \"Oneida\", \"mother_tongue\": 60, \"most_at_home\": 15, \"most_at_work\": 0, \"lang_known\": 185}, {\"category\": \"Non-Official & Non-Aboriginal languages\", \"language\": \"Oriya (Odia)\", \"mother_tongue\": 1055, \"most_at_home\": 475, \"most_at_work\": 0, \"lang_known\": 1530}, {\"category\": \"Non-Official & Non-Aboriginal languages\", \"language\": \"Oromo\", \"mother_tongue\": 4960, \"most_at_home\": 3410, \"most_at_work\": 45, \"lang_known\": 6245}, {\"category\": \"Non-Official & Non-Aboriginal languages\", \"language\": \"Other languages, n.i.e.\", \"mother_tongue\": 3685, \"most_at_home\": 1110, \"most_at_work\": 80, \"lang_known\": 9730}, {\"category\": \"Aboriginal languages\", \"language\": \"Ottawa (Odawa)\", \"mother_tongue\": 150, \"most_at_home\": 75, \"most_at_work\": 0, \"lang_known\": 205}, {\"category\": \"Non-Official & Non-Aboriginal languages\", \"language\": \"Pampangan (Kapampangan, Pampango)\", \"mother_tongue\": 4045, \"most_at_home\": 1200, \"most_at_work\": 10, \"lang_known\": 5425}, {\"category\": \"Non-Official & Non-Aboriginal languages\", \"language\": \"Pangasinan\", \"mother_tongue\": 1390, \"most_at_home\": 240, \"most_at_work\": 0, \"lang_known\": 1800}, {\"category\": \"Non-Official & Non-Aboriginal languages\", \"language\": \"Pashto\", \"mother_tongue\": 16905, \"most_at_home\": 10590, \"most_at_work\": 50, \"lang_known\": 23180}, {\"category\": \"Non-Official & Non-Aboriginal languages\", \"language\": \"Persian (Farsi)\", \"mother_tongue\": 214200, \"most_at_home\": 143025, \"most_at_work\": 4580, \"lang_known\": 252325}, {\"category\": \"Aboriginal languages\", \"language\": \"Plains Cree\", \"mother_tongue\": 3065, \"most_at_home\": 1345, \"most_at_work\": 95, \"lang_known\": 5905}, {\"category\": \"Non-Official & Non-Aboriginal languages\", \"language\": \"Polish\", \"mother_tongue\": 181710, \"most_at_home\": 74780, \"most_at_work\": 2495, \"lang_known\": 214965}, {\"category\": \"Non-Official & Non-Aboriginal languages\", \"language\": \"Portuguese\", \"mother_tongue\": 221535, \"most_at_home\": 98710, \"most_at_work\": 7485, \"lang_known\": 295955}, {\"category\": \"Non-Official & Non-Aboriginal languages\", \"language\": \"Punjabi (Panjabi)\", \"mother_tongue\": 501680, \"most_at_home\": 349140, \"most_at_work\": 27865, \"lang_known\": 668240}, {\"category\": \"Non-Official & Non-Aboriginal languages\", \"language\": \"Quebec Sign Language\", \"mother_tongue\": 695, \"most_at_home\": 730, \"most_at_work\": 130, \"lang_known\": 4665}, {\"category\": \"Non-Official & Non-Aboriginal languages\", \"language\": \"Romanian\", \"mother_tongue\": 96660, \"most_at_home\": 53325, \"most_at_work\": 745, \"lang_known\": 115050}, {\"category\": \"Non-Official & Non-Aboriginal languages\", \"language\": \"Rundi (Kirundi)\", \"mother_tongue\": 5850, \"most_at_home\": 2110, \"most_at_work\": 0, \"lang_known\": 8590}, {\"category\": \"Non-Official & Non-Aboriginal languages\", \"language\": \"Russian\", \"mother_tongue\": 188255, \"most_at_home\": 116595, \"most_at_work\": 4855, \"lang_known\": 269645}, {\"category\": \"Aboriginal languages\", \"language\": \"Salish languages, n.i.e.\", \"mother_tongue\": 260, \"most_at_home\": 25, \"most_at_work\": 0, \"lang_known\": 560}, {\"category\": \"Aboriginal languages\", \"language\": \"Sarsi (Sarcee)\", \"mother_tongue\": 80, \"most_at_home\": 10, \"most_at_work\": 0, \"lang_known\": 145}, {\"category\": \"Non-Official & Non-Aboriginal languages\", \"language\": \"Scottish Gaelic\", \"mother_tongue\": 1090, \"most_at_home\": 190, \"most_at_work\": 15, \"lang_known\": 3980}, {\"category\": \"Aboriginal languages\", \"language\": \"Sekani\", \"mother_tongue\": 85, \"most_at_home\": 15, \"most_at_work\": 0, \"lang_known\": 185}, {\"category\": \"Non-Official & Non-Aboriginal languages\", \"language\": \"Semitic languages, n.i.e.\", \"mother_tongue\": 2150, \"most_at_home\": 1205, \"most_at_work\": 65, \"lang_known\": 3220}, {\"category\": \"Non-Official & Non-Aboriginal languages\", \"language\": \"Serbian\", \"mother_tongue\": 57350, \"most_at_home\": 31750, \"most_at_work\": 530, \"lang_known\": 73780}, {\"category\": \"Non-Official & Non-Aboriginal languages\", \"language\": \"Serbo-Croatian\", \"mother_tongue\": 9550, \"most_at_home\": 3890, \"most_at_work\": 30, \"lang_known\": 11275}, {\"category\": \"Non-Official & Non-Aboriginal languages\", \"language\": \"Shona\", \"mother_tongue\": 3185, \"most_at_home\": 1035, \"most_at_work\": 0, \"lang_known\": 5430}, {\"category\": \"Aboriginal languages\", \"language\": \"Shuswap (Secwepemctsin)\", \"mother_tongue\": 445, \"most_at_home\": 50, \"most_at_work\": 35, \"lang_known\": 1305}, {\"category\": \"Non-Official & Non-Aboriginal languages\", \"language\": \"Sign languages, n.i.e\", \"mother_tongue\": 4125, \"most_at_home\": 6690, \"most_at_work\": 645, \"lang_known\": 22280}, {\"category\": \"Non-Official & Non-Aboriginal languages\", \"language\": \"Sindhi\", \"mother_tongue\": 11860, \"most_at_home\": 4975, \"most_at_work\": 35, \"lang_known\": 20260}, {\"category\": \"Non-Official & Non-Aboriginal languages\", \"language\": \"Sinhala (Sinhalese)\", \"mother_tongue\": 16335, \"most_at_home\": 7790, \"most_at_work\": 40, \"lang_known\": 27825}, {\"category\": \"Aboriginal languages\", \"language\": \"Siouan languages, n.i.e.\", \"mother_tongue\": 55, \"most_at_home\": 20, \"most_at_work\": 0, \"lang_known\": 140}, {\"category\": \"Aboriginal languages\", \"language\": \"Slavey, n.o.s.\", \"mother_tongue\": 280, \"most_at_home\": 105, \"most_at_work\": 10, \"lang_known\": 675}, {\"category\": \"Non-Official & Non-Aboriginal languages\", \"language\": \"Slavic languages, n.i.e.\", \"mother_tongue\": 2420, \"most_at_home\": 670, \"most_at_work\": 10, \"lang_known\": 2995}, {\"category\": \"Non-Official & Non-Aboriginal languages\", \"language\": \"Slovak\", \"mother_tongue\": 17580, \"most_at_home\": 5610, \"most_at_work\": 100, \"lang_known\": 21470}, {\"category\": \"Non-Official & Non-Aboriginal languages\", \"language\": \"Slovene (Slovenian)\", \"mother_tongue\": 9785, \"most_at_home\": 2055, \"most_at_work\": 15, \"lang_known\": 11490}, {\"category\": \"Non-Official & Non-Aboriginal languages\", \"language\": \"Somali\", \"mother_tongue\": 36755, \"most_at_home\": 22895, \"most_at_work\": 220, \"lang_known\": 49660}, {\"category\": \"Aboriginal languages\", \"language\": \"South Slavey\", \"mother_tongue\": 945, \"most_at_home\": 370, \"most_at_work\": 35, \"lang_known\": 1365}, {\"category\": \"Aboriginal languages\", \"language\": \"Southern East Cree\", \"mother_tongue\": 45, \"most_at_home\": 15, \"most_at_work\": 0, \"lang_known\": 40}, {\"category\": \"Aboriginal languages\", \"language\": \"Southern Tutchone\", \"mother_tongue\": 70, \"most_at_home\": 5, \"most_at_work\": 0, \"lang_known\": 145}, {\"category\": \"Non-Official & Non-Aboriginal languages\", \"language\": \"Spanish\", \"mother_tongue\": 458850, \"most_at_home\": 263505, \"most_at_work\": 13030, \"lang_known\": 995260}, {\"category\": \"Aboriginal languages\", \"language\": \"Squamish\", \"mother_tongue\": 40, \"most_at_home\": 5, \"most_at_work\": 10, \"lang_known\": 285}, {\"category\": \"Aboriginal languages\", \"language\": \"Stoney\", \"mother_tongue\": 3025, \"most_at_home\": 1950, \"most_at_work\": 240, \"lang_known\": 3675}, {\"category\": \"Aboriginal languages\", \"language\": \"Straits\", \"mother_tongue\": 80, \"most_at_home\": 25, \"most_at_work\": 15, \"lang_known\": 365}, {\"category\": \"Non-Official & Non-Aboriginal languages\", \"language\": \"Swahili\", \"mother_tongue\": 13370, \"most_at_home\": 5370, \"most_at_work\": 80, \"lang_known\": 38685}, {\"category\": \"Aboriginal languages\", \"language\": \"Swampy Cree\", \"mother_tongue\": 1440, \"most_at_home\": 330, \"most_at_work\": 10, \"lang_known\": 2350}, {\"category\": \"Non-Official & Non-Aboriginal languages\", \"language\": \"Swedish\", \"mother_tongue\": 6840, \"most_at_home\": 1050, \"most_at_work\": 125, \"lang_known\": 14140}, {\"category\": \"Non-Official & Non-Aboriginal languages\", \"language\": \"Tagalog (Pilipino, Filipino)\", \"mother_tongue\": 431385, \"most_at_home\": 213790, \"most_at_work\": 3450, \"lang_known\": 612735}, {\"category\": \"Aboriginal languages\", \"language\": \"Tahltan\", \"mother_tongue\": 95, \"most_at_home\": 5, \"most_at_work\": 0, \"lang_known\": 265}, {\"category\": \"Non-Official & Non-Aboriginal languages\", \"language\": \"Tai-Kadai languages, n.i.e\", \"mother_tongue\": 85, \"most_at_home\": 30, \"most_at_work\": 0, \"lang_known\": 115}, {\"category\": \"Non-Official & Non-Aboriginal languages\", \"language\": \"Tamil\", \"mother_tongue\": 140720, \"most_at_home\": 96955, \"most_at_work\": 2085, \"lang_known\": 189860}, {\"category\": \"Non-Official & Non-Aboriginal languages\", \"language\": \"Telugu\", \"mother_tongue\": 15660, \"most_at_home\": 8280, \"most_at_work\": 40, \"lang_known\": 23165}, {\"category\": \"Non-Official & Non-Aboriginal languages\", \"language\": \"Thai\", \"mother_tongue\": 9255, \"most_at_home\": 3365, \"most_at_work\": 525, \"lang_known\": 15395}, {\"category\": \"Aboriginal languages\", \"language\": \"Thompson (Ntlakapamux)\", \"mother_tongue\": 335, \"most_at_home\": 20, \"most_at_work\": 0, \"lang_known\": 450}, {\"category\": \"Non-Official & Non-Aboriginal languages\", \"language\": \"Tibetan\", \"mother_tongue\": 6160, \"most_at_home\": 4590, \"most_at_work\": 50, \"lang_known\": 7050}, {\"category\": \"Non-Official & Non-Aboriginal languages\", \"language\": \"Tibeto-Burman languages, n.i.e.\", \"mother_tongue\": 1405, \"most_at_home\": 655, \"most_at_work\": 15, \"lang_known\": 2380}, {\"category\": \"Non-Official & Non-Aboriginal languages\", \"language\": \"Tigrigna\", \"mother_tongue\": 16645, \"most_at_home\": 10205, \"most_at_work\": 130, \"lang_known\": 21340}, {\"category\": \"Aboriginal languages\", \"language\": \"Tlingit\", \"mother_tongue\": 95, \"most_at_home\": 0, \"most_at_work\": 10, \"lang_known\": 260}, {\"category\": \"Aboriginal languages\", \"language\": \"Tsimshian\", \"mother_tongue\": 200, \"most_at_home\": 30, \"most_at_work\": 10, \"lang_known\": 410}, {\"category\": \"Non-Official & Non-Aboriginal languages\", \"language\": \"Turkic languages, n.i.e.\", \"mother_tongue\": 1315, \"most_at_home\": 455, \"most_at_work\": 10, \"lang_known\": 1875}, {\"category\": \"Non-Official & Non-Aboriginal languages\", \"language\": \"Turkish\", \"mother_tongue\": 32815, \"most_at_home\": 18955, \"most_at_work\": 690, \"lang_known\": 50770}, {\"category\": \"Non-Official & Non-Aboriginal languages\", \"language\": \"Ukrainian\", \"mother_tongue\": 102485, \"most_at_home\": 28250, \"most_at_work\": 1210, \"lang_known\": 132115}, {\"category\": \"Non-Official & Non-Aboriginal languages\", \"language\": \"Uralic languages, n.i.e.\", \"mother_tongue\": 10, \"most_at_home\": 5, \"most_at_work\": 0, \"lang_known\": 25}, {\"category\": \"Non-Official & Non-Aboriginal languages\", \"language\": \"Urdu\", \"mother_tongue\": 210815, \"most_at_home\": 128785, \"most_at_work\": 1495, \"lang_known\": 322220}, {\"category\": \"Non-Official & Non-Aboriginal languages\", \"language\": \"Uyghur\", \"mother_tongue\": 1035, \"most_at_home\": 610, \"most_at_work\": 20, \"lang_known\": 1390}, {\"category\": \"Non-Official & Non-Aboriginal languages\", \"language\": \"Uzbek\", \"mother_tongue\": 1720, \"most_at_home\": 995, \"most_at_work\": 15, \"lang_known\": 2465}, {\"category\": \"Non-Official & Non-Aboriginal languages\", \"language\": \"Vietnamese\", \"mother_tongue\": 156430, \"most_at_home\": 104245, \"most_at_work\": 8075, \"lang_known\": 198895}, {\"category\": \"Non-Official & Non-Aboriginal languages\", \"language\": \"Vlaams (Flemish)\", \"mother_tongue\": 3895, \"most_at_home\": 355, \"most_at_work\": 35, \"lang_known\": 4400}, {\"category\": \"Aboriginal languages\", \"language\": \"Wakashan languages, n.i.e.\", \"mother_tongue\": 10, \"most_at_home\": 0, \"most_at_work\": 0, \"lang_known\": 25}, {\"category\": \"Non-Official & Non-Aboriginal languages\", \"language\": \"Waray-Waray\", \"mother_tongue\": 1110, \"most_at_home\": 310, \"most_at_work\": 0, \"lang_known\": 1395}, {\"category\": \"Non-Official & Non-Aboriginal languages\", \"language\": \"Welsh\", \"mother_tongue\": 1075, \"most_at_home\": 95, \"most_at_work\": 0, \"lang_known\": 1695}, {\"category\": \"Non-Official & Non-Aboriginal languages\", \"language\": \"Wolof\", \"mother_tongue\": 3990, \"most_at_home\": 1385, \"most_at_work\": 10, \"lang_known\": 8240}, {\"category\": \"Aboriginal languages\", \"language\": \"Woods Cree\", \"mother_tongue\": 1840, \"most_at_home\": 800, \"most_at_work\": 75, \"lang_known\": 2665}, {\"category\": \"Non-Official & Non-Aboriginal languages\", \"language\": \"Wu (Shanghainese)\", \"mother_tongue\": 12915, \"most_at_home\": 7650, \"most_at_work\": 105, \"lang_known\": 16530}, {\"category\": \"Non-Official & Non-Aboriginal languages\", \"language\": \"Yiddish\", \"mother_tongue\": 13555, \"most_at_home\": 7085, \"most_at_work\": 895, \"lang_known\": 20985}, {\"category\": \"Non-Official & Non-Aboriginal languages\", \"language\": \"Yoruba\", \"mother_tongue\": 9080, \"most_at_home\": 2615, \"most_at_work\": 15, \"lang_known\": 22415}]}}, {\"mode\": \"vega-lite\"});\n",
       "</script>"
      ],
      "text/plain": [
       "alt.Chart(...)"
      ]
     },
     "execution_count": 13,
     "metadata": {},
     "output_type": "execute_result"
    }
   ],
   "source": [
    "alt.Chart(can_lang).mark_point().encode(\n",
    "    x = alt.X('most_at_work', scale = alt.Scale(type = \"symlog\")),\n",
    "    y = alt.Y('most_at_home', scale = alt.Scale(type = \"symlog\")),\n",
    "    color = 'category'\n",
    ")"
   ]
  },
  {
   "cell_type": "code",
   "execution_count": 16,
   "id": "b8fcbe65-b4fb-488e-bbf2-b08f61edb966",
   "metadata": {},
   "outputs": [
    {
     "data": {
      "text/plain": [
       "3"
      ]
     },
     "execution_count": 16,
     "metadata": {},
     "output_type": "execute_result"
    }
   ],
   "source": [
    "can_lang.groupby('category').ngroups\n"
   ]
  },
  {
   "cell_type": "code",
   "execution_count": null,
   "id": "5d7c1505-ae38-44e9-bc38-ffa77dd1bc2e",
   "metadata": {},
   "outputs": [],
   "source": []
  }
 ],
 "metadata": {
  "kernelspec": {
   "display_name": "Python 3 (ipykernel)",
   "language": "python",
   "name": "python3"
  },
  "language_info": {
   "codemirror_mode": {
    "name": "ipython",
    "version": 3
   },
   "file_extension": ".py",
   "mimetype": "text/x-python",
   "name": "python",
   "nbconvert_exporter": "python",
   "pygments_lexer": "ipython3",
   "version": "3.12.2"
  }
 },
 "nbformat": 4,
 "nbformat_minor": 5
}
